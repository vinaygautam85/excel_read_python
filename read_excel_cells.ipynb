{
 "cells": [
  {
   "cell_type": "code",
   "execution_count": 2,
   "metadata": {},
   "outputs": [],
   "source": [
    "import pandas as pd\n",
    "import numpy as np\n",
    "import xlsxwriter\n",
    "\n",
    "import openpyxl\n",
    "\n",
    "import mysql.connector"
   ]
  },
  {
   "cell_type": "code",
   "execution_count": 3,
   "metadata": {},
   "outputs": [],
   "source": [
    "# Connecting to the server\n",
    "def open_conn():\n",
    "    conn = mysql.connector.connect(user='root', password='vini1985',\n",
    "                              host='127.0.0.1', database='ulb_data',\n",
    "                              auth_plugin='mysql_native_password')\n",
    "    print(\"DB Connection Opened!\")\n",
    "    return conn\n",
    " \n",
    "# Disconnecting from the server\n",
    "def close_con(conn):\n",
    "    conn.close()\n",
    "    print(\"DB connection closed\")"
   ]
  },
  {
   "cell_type": "code",
   "execution_count": 4,
   "metadata": {},
   "outputs": [],
   "source": [
    "query = \"select ulb_hrms_id, ulb_name from ulbs where ulb_name like '%robert%'\""
   ]
  },
  {
   "cell_type": "code",
   "execution_count": 5,
   "metadata": {},
   "outputs": [
    {
     "name": "stdout",
     "output_type": "stream",
     "text": [
      "DB Connection Opened!\n",
      "('0711CU0001', 'Robertsonpet(KGF)')\n",
      "DB connection closed\n"
     ]
    }
   ],
   "source": [
    "conn = open_conn()\n",
    "mycursor = conn.cursor()\n",
    "mycursor.execute(query)\n",
    "myresult = mycursor.fetchall()\n",
    "for x in myresult:\n",
    "  print(x)\n",
    "\n",
    "close_con(conn)"
   ]
  },
  {
   "cell_type": "code",
   "execution_count": 6,
   "metadata": {},
   "outputs": [],
   "source": [
    "path = '.\\Budget_Files_2024-25'"
   ]
  },
  {
   "cell_type": "code",
   "execution_count": 58,
   "metadata": {},
   "outputs": [
    {
     "name": "stdout",
     "output_type": "stream",
     "text": [
      "911254678,OPS,None,sdfsdfsdfd,F,PK,17000,28950,17000,204000,2024-07-01 00:00:00,400,3600,207600,91344,16608,2400,8400,4800,PP,1200,13148,-,345500\n",
      "911257426,NPS,110145623852,dsdfsdfsd,M,CAUO,74400,109600,74400,892800,2025-01-01 00:00:00,1900,5700,898500,395340,71880,0,0,6000,SFN,1500,56905,181137.6,1611262.6\n",
      "911121651,NPS,123456789123,sxdfcsdfd,F,RO,43100,83900,43100,517200,2025-01-01 00:00:00,1100,3300,520500,229020,41640,0,0,3434,SFN,1500,32965,104932.8,933991.8\n"
     ]
    }
   ],
   "source": [
    "# load excel with its path\n",
    "wrkbk = openpyxl.load_workbook(\".\\Budget_Files_2024-25\\Appendix-B_2024-25_For_CCs.xlsx\", data_only=True)\n",
    "  \n",
    "sh = wrkbk.active\n",
    "\n",
    "# sh.cell(row=4,column=4).value\n",
    "# sh.cell(row=4,column=24).value\n",
    "\n",
    "# ulb_name = sh['D4'].value\n",
    "# ulb_hrms_code = sh['X4'].value\n",
    "\n",
    "# iterate through excel and display data\n",
    "for i in range(9, 3008):\n",
    "    if sh.cell(row=i, column=2).value == None:\n",
    "        break\n",
    "    else:\n",
    "        for j in range(2, 26):\n",
    "            if j==25:\n",
    "                print(sh.cell(row=i, column=j).value)\n",
    "                break\n",
    "            else:\n",
    "                print(sh.cell(row=i, column=j).value, end=\",\")\n",
    "\n",
    "# print(ulb_name, ulb_hrms_code)"
   ]
  },
  {
   "cell_type": "code",
   "execution_count": 96,
   "metadata": {},
   "outputs": [
    {
     "data": {
      "text/html": [
       "<div>\n",
       "<style scoped>\n",
       "    .dataframe tbody tr th:only-of-type {\n",
       "        vertical-align: middle;\n",
       "    }\n",
       "\n",
       "    .dataframe tbody tr th {\n",
       "        vertical-align: top;\n",
       "    }\n",
       "\n",
       "    .dataframe thead th {\n",
       "        text-align: right;\n",
       "    }\n",
       "</style>\n",
       "<table border=\"1\" class=\"dataframe\">\n",
       "  <thead>\n",
       "    <tr style=\"text-align: right;\">\n",
       "      <th></th>\n",
       "      <th>ulb_name</th>\n",
       "      <th>ulb_hrms_code</th>\n",
       "      <th>emp_id</th>\n",
       "      <th>pension_type</th>\n",
       "      <th>pran</th>\n",
       "      <th>emp_name</th>\n",
       "      <th>gender</th>\n",
       "      <th>designation</th>\n",
       "      <th>payscale_min</th>\n",
       "      <th>payscale_max</th>\n",
       "      <th>...</th>\n",
       "      <th>da_for_year</th>\n",
       "      <th>hra_for_year</th>\n",
       "      <th>ma_for_year</th>\n",
       "      <th>ua_pk_spcl_for_year</th>\n",
       "      <th>cca_for_year</th>\n",
       "      <th>other_allowance_type</th>\n",
       "      <th>oa_amount_for_year</th>\n",
       "      <th>surrender_leave_encash</th>\n",
       "      <th>nps_contr_for_year</th>\n",
       "      <th>total</th>\n",
       "    </tr>\n",
       "  </thead>\n",
       "  <tbody>\n",
       "  </tbody>\n",
       "</table>\n",
       "<p>0 rows × 26 columns</p>\n",
       "</div>"
      ],
      "text/plain": [
       "Empty DataFrame\n",
       "Columns: [ulb_name, ulb_hrms_code, emp_id, pension_type, pran, emp_name, gender, designation, payscale_min, payscale_max, basic_pay, basic_pay_for_year, increment_month, increment_rate, increment_for_year, basic_incrnt_total, da_for_year, hra_for_year, ma_for_year, ua_pk_spcl_for_year, cca_for_year, other_allowance_type, oa_amount_for_year, surrender_leave_encash, nps_contr_for_year, total]\n",
       "Index: []\n",
       "\n",
       "[0 rows x 26 columns]"
      ]
     },
     "execution_count": 96,
     "metadata": {},
     "output_type": "execute_result"
    }
   ],
   "source": [
    "df = pd.DataFrame(columns=['ulb_name', 'ulb_hrms_code', 'emp_id', 'pension_type', 'pran', 'emp_name', 'gender', 'designation',\n",
    "                           'payscale_min', 'payscale_max', 'basic_pay', 'basic_pay_for_year', 'increment_month', 'increment_rate',\n",
    "                           'increment_for_year', 'basic_incrnt_total', 'da_for_year', 'hra_for_year', 'ma_for_year',\n",
    "                           'ua_pk_spcl_for_year','cca_for_year', 'other_allowance_type', 'oa_amount_for_year',\n",
    "                           'surrender_leave_encash','nps_contr_for_year', 'total'])\n",
    "df"
   ]
  },
  {
   "cell_type": "code",
   "execution_count": 66,
   "metadata": {},
   "outputs": [
    {
     "data": {
      "text/plain": [
       "list"
      ]
     },
     "execution_count": 66,
     "metadata": {},
     "output_type": "execute_result"
    }
   ],
   "source": [
    "list = []\n",
    "type(list)"
   ]
  },
  {
   "cell_type": "code",
   "execution_count": 106,
   "metadata": {},
   "outputs": [
    {
     "data": {
      "text/plain": [
       "2"
      ]
     },
     "execution_count": 106,
     "metadata": {},
     "output_type": "execute_result"
    }
   ],
   "source": []
  },
  {
   "cell_type": "code",
   "execution_count": 107,
   "metadata": {},
   "outputs": [
    {
     "ename": "IndexError",
     "evalue": "iloc cannot enlarge its target object",
     "output_type": "error",
     "traceback": [
      "\u001b[1;31m---------------------------------------------------------------------------\u001b[0m",
      "\u001b[1;31mIndexError\u001b[0m                                Traceback (most recent call last)",
      "\u001b[1;32md:\\Python_workspace\\excel_read_python\\read_excel_cells.ipynb Cell 10\u001b[0m line \u001b[0;36m2\n\u001b[0;32m     <a href='vscode-notebook-cell:/d%3A/Python_workspace/excel_read_python/read_excel_cells.ipynb#X12sZmlsZQ%3D%3D?line=24'>25</a>\u001b[0m                 \u001b[39mlist\u001b[39m\u001b[39m.\u001b[39minsert(j, cell_obj)\n\u001b[0;32m     <a href='vscode-notebook-cell:/d%3A/Python_workspace/excel_read_python/read_excel_cells.ipynb#X12sZmlsZQ%3D%3D?line=25'>26</a>\u001b[0m             \u001b[39m# print(cell_obj, end=\",\")\u001b[39;00m\n\u001b[1;32m---> <a href='vscode-notebook-cell:/d%3A/Python_workspace/excel_read_python/read_excel_cells.ipynb#X12sZmlsZQ%3D%3D?line=26'>27</a>\u001b[0m df\u001b[39m.\u001b[39;49miloc[count] \u001b[39m=\u001b[39m \u001b[39mlist\u001b[39m\n\u001b[0;32m     <a href='vscode-notebook-cell:/d%3A/Python_workspace/excel_read_python/read_excel_cells.ipynb#X12sZmlsZQ%3D%3D?line=27'>28</a>\u001b[0m \u001b[39mlist\u001b[39m\u001b[39m=\u001b[39m[]\n",
      "File \u001b[1;32mc:\\Users\\vinid\\AppData\\Local\\Programs\\Python\\Python311\\Lib\\site-packages\\pandas\\core\\indexing.py:882\u001b[0m, in \u001b[0;36m_LocationIndexer.__setitem__\u001b[1;34m(self, key, value)\u001b[0m\n\u001b[0;32m    880\u001b[0m     key \u001b[39m=\u001b[39m com\u001b[39m.\u001b[39mapply_if_callable(key, \u001b[39mself\u001b[39m\u001b[39m.\u001b[39mobj)\n\u001b[0;32m    881\u001b[0m indexer \u001b[39m=\u001b[39m \u001b[39mself\u001b[39m\u001b[39m.\u001b[39m_get_setitem_indexer(key)\n\u001b[1;32m--> 882\u001b[0m \u001b[39mself\u001b[39;49m\u001b[39m.\u001b[39;49m_has_valid_setitem_indexer(key)\n\u001b[0;32m    884\u001b[0m iloc \u001b[39m=\u001b[39m \u001b[39mself\u001b[39m \u001b[39mif\u001b[39;00m \u001b[39mself\u001b[39m\u001b[39m.\u001b[39mname \u001b[39m==\u001b[39m \u001b[39m\"\u001b[39m\u001b[39miloc\u001b[39m\u001b[39m\"\u001b[39m \u001b[39melse\u001b[39;00m \u001b[39mself\u001b[39m\u001b[39m.\u001b[39mobj\u001b[39m.\u001b[39miloc\n\u001b[0;32m    885\u001b[0m iloc\u001b[39m.\u001b[39m_setitem_with_indexer(indexer, value, \u001b[39mself\u001b[39m\u001b[39m.\u001b[39mname)\n",
      "File \u001b[1;32mc:\\Users\\vinid\\AppData\\Local\\Programs\\Python\\Python311\\Lib\\site-packages\\pandas\\core\\indexing.py:1608\u001b[0m, in \u001b[0;36m_iLocIndexer._has_valid_setitem_indexer\u001b[1;34m(self, indexer)\u001b[0m\n\u001b[0;32m   1606\u001b[0m \u001b[39melif\u001b[39;00m is_integer(i):\n\u001b[0;32m   1607\u001b[0m     \u001b[39mif\u001b[39;00m i \u001b[39m>\u001b[39m\u001b[39m=\u001b[39m \u001b[39mlen\u001b[39m(ax):\n\u001b[1;32m-> 1608\u001b[0m         \u001b[39mraise\u001b[39;00m \u001b[39mIndexError\u001b[39;00m(\u001b[39m\"\u001b[39m\u001b[39miloc cannot enlarge its target object\u001b[39m\u001b[39m\"\u001b[39m)\n\u001b[0;32m   1609\u001b[0m \u001b[39melif\u001b[39;00m \u001b[39misinstance\u001b[39m(i, \u001b[39mdict\u001b[39m):\n\u001b[0;32m   1610\u001b[0m     \u001b[39mraise\u001b[39;00m \u001b[39mIndexError\u001b[39;00m(\u001b[39m\"\u001b[39m\u001b[39miloc cannot enlarge its target object\u001b[39m\u001b[39m\"\u001b[39m)\n",
      "\u001b[1;31mIndexError\u001b[0m: iloc cannot enlarge its target object"
     ]
    }
   ],
   "source": [
    "for i in range(9,3008):\n",
    "    if sh.cell(row=i, column=2).value == None:\n",
    "        count = i - 1 - 9\n",
    "        break\n",
    "\n",
    "for i in range(9, 3008):\n",
    "    list.insert(0,sh.cell(4,4).value)\n",
    "    list.insert(1,sh.cell(4,24).value)\n",
    "    if sh.cell(row=i, column=2).value == None:\n",
    "        break\n",
    "    else:\n",
    "        for j in range(2, 26):\n",
    "            if j==25:\n",
    "                cell_obj = sh.cell(row=i, column=j).value\n",
    "                # print(cell_obj)\n",
    "                break\n",
    "            else:\n",
    "                cell_obj = sh.cell(row=i, column=j).value\n",
    "                # print(cell_obj, type(cell_obj))\n",
    "                if type(cell_obj) == 'int':\n",
    "                    list.insert(j, cell_obj)\n",
    "                elif type(cell_obj) == 'str':\n",
    "                    list.insert(j,\"'\" + cell_obj + \"'\")\n",
    "                else:\n",
    "                    list.insert(j, cell_obj)\n",
    "                # print(cell_obj, end=\",\")\n",
    "    df.iloc[count] = list\n",
    "    list=[]"
   ]
  },
  {
   "cell_type": "code",
   "execution_count": 95,
   "metadata": {},
   "outputs": [
    {
     "data": {
      "text/plain": [
       "['Tumakuru', '2201CC0123']"
      ]
     },
     "execution_count": 95,
     "metadata": {},
     "output_type": "execute_result"
    }
   ],
   "source": [
    "list"
   ]
  },
  {
   "cell_type": "code",
   "execution_count": null,
   "metadata": {},
   "outputs": [],
   "source": []
  }
 ],
 "metadata": {
  "kernelspec": {
   "display_name": "Python 3",
   "language": "python",
   "name": "python3"
  },
  "language_info": {
   "codemirror_mode": {
    "name": "ipython",
    "version": 3
   },
   "file_extension": ".py",
   "mimetype": "text/x-python",
   "name": "python",
   "nbconvert_exporter": "python",
   "pygments_lexer": "ipython3",
   "version": "3.11.4"
  },
  "orig_nbformat": 4
 },
 "nbformat": 4,
 "nbformat_minor": 2
}
